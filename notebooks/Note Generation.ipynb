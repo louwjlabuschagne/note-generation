{
 "cells": [
  {
   "cell_type": "markdown",
   "metadata": {},
   "source": [
    "# Generating Notes"
   ]
  },
  {
   "cell_type": "markdown",
   "metadata": {},
   "source": [
    "## Sine Wave"
   ]
  },
  {
   "cell_type": "markdown",
   "metadata": {},
   "source": [
    "$y(t) = A\\sin(2 \\pi f t + \\varphi) = A\\sin(\\omega t + \\varphi)$\n",
    "\n",
    "where:\n",
    "\n",
    "+ $A$, amplitude, the peak deviation of the function from zero.\n",
    "+ $f$, ordinary frequency, the number of oscillations (cycles) that occur each second of time.\n",
    "+ $\\omega = 2\\pi f$, angular frequency, the rate of change of the function argument in units of radians per second\n",
    "+ $\\varphi$ , phase, specifies (in radians) where in its cycle the oscillation is at t = 0."
   ]
  },
  {
   "cell_type": "markdown",
   "metadata": {},
   "source": [
    "## Imports"
   ]
  },
  {
   "cell_type": "code",
   "execution_count": 26,
   "metadata": {
    "ExecuteTime": {
     "end_time": "2019-12-09T16:09:47.521721Z",
     "start_time": "2019-12-09T16:09:47.518451Z"
    }
   },
   "outputs": [],
   "source": [
    "import numpy as np\n",
    "import seaborn as sns\n",
    "import matplotlib.pyplot as plt\n",
    "import pandas as pd\n",
    "import pyaudio"
   ]
  },
  {
   "cell_type": "markdown",
   "metadata": {},
   "source": [
    "## Notes"
   ]
  },
  {
   "cell_type": "code",
   "execution_count": 62,
   "metadata": {
    "ExecuteTime": {
     "end_time": "2019-12-09T16:48:26.793282Z",
     "start_time": "2019-12-09T16:48:26.776248Z"
    }
   },
   "outputs": [
    {
     "data": {
      "text/html": [
       "<div>\n",
       "<style scoped>\n",
       "    .dataframe tbody tr th:only-of-type {\n",
       "        vertical-align: middle;\n",
       "    }\n",
       "\n",
       "    .dataframe tbody tr th {\n",
       "        vertical-align: top;\n",
       "    }\n",
       "\n",
       "    .dataframe thead th {\n",
       "        text-align: right;\n",
       "    }\n",
       "</style>\n",
       "<table border=\"1\" class=\"dataframe\">\n",
       "  <thead>\n",
       "    <tr style=\"text-align: right;\">\n",
       "      <th></th>\n",
       "      <th>0</th>\n",
       "      <th>1</th>\n",
       "      <th>2</th>\n",
       "      <th>3</th>\n",
       "      <th>4</th>\n",
       "      <th>5</th>\n",
       "      <th>6</th>\n",
       "      <th>7</th>\n",
       "      <th>8</th>\n",
       "      <th>9</th>\n",
       "    </tr>\n",
       "  </thead>\n",
       "  <tbody>\n",
       "    <tr>\n",
       "      <th>Note</th>\n",
       "      <td>C0</td>\n",
       "      <td>C#0</td>\n",
       "      <td>Db0</td>\n",
       "      <td>D0</td>\n",
       "      <td>D#0</td>\n",
       "      <td>Eb0</td>\n",
       "      <td>E0</td>\n",
       "      <td>F0</td>\n",
       "      <td>F#0</td>\n",
       "      <td>Gb0</td>\n",
       "    </tr>\n",
       "    <tr>\n",
       "      <th>Frequency</th>\n",
       "      <td>16.35</td>\n",
       "      <td>17.32</td>\n",
       "      <td>17.32</td>\n",
       "      <td>18.35</td>\n",
       "      <td>19.45</td>\n",
       "      <td>19.45</td>\n",
       "      <td>20.6</td>\n",
       "      <td>21.83</td>\n",
       "      <td>23.12</td>\n",
       "      <td>23.12</td>\n",
       "    </tr>\n",
       "  </tbody>\n",
       "</table>\n",
       "</div>"
      ],
      "text/plain": [
       "               0      1      2      3      4      5     6      7      8      9\n",
       "Note          C0    C#0    Db0     D0    D#0    Eb0    E0     F0    F#0    Gb0\n",
       "Frequency  16.35  17.32  17.32  18.35  19.45  19.45  20.6  21.83  23.12  23.12"
      ]
     },
     "execution_count": 62,
     "metadata": {},
     "output_type": "execute_result"
    }
   ],
   "source": [
    "notes = pd.read_csv('../data/notes.csv', sep=';')\n",
    "notes.head(10).T"
   ]
  },
  {
   "cell_type": "markdown",
   "metadata": {},
   "source": [
    "## \"A\" Sine Wave for a 10 mili-seconds"
   ]
  },
  {
   "cell_type": "code",
   "execution_count": 28,
   "metadata": {
    "ExecuteTime": {
     "end_time": "2019-12-09T16:27:56.188358Z",
     "start_time": "2019-12-09T16:27:56.185366Z"
    }
   },
   "outputs": [],
   "source": [
    "volume = 0.5     # range [0.0, 1.0]\n",
    "fs = 44100       # sampling rate, Hz, must be integer\n",
    "duration = 0.01   # in seconds, may be float\n",
    "f = 440.0        # sine frequency, Hz, may be float"
   ]
  },
  {
   "cell_type": "code",
   "execution_count": 32,
   "metadata": {
    "ExecuteTime": {
     "end_time": "2019-12-09T16:29:06.043151Z",
     "start_time": "2019-12-09T16:29:05.746542Z"
    }
   },
   "outputs": [
    {
     "data": {
      "image/png": "[encoded data removed]",
      "text/plain": [
       "<Figure size 1080x360 with 1 Axes>"
      ]
     },
     "metadata": {
      "needs_background": "light"
     },
     "output_type": "display_data"
    }
   ],
   "source": [
    "plt.figure(figsize=(15,5))\n",
    "x = np.arange(fs*duration)\n",
    "y = np.sin(2*np.pi*x*f/fs)\n",
    "sns.scatterplot(x,y);"
   ]
  },
  {
   "cell_type": "markdown",
   "metadata": {},
   "source": [
    "## Note Duration"
   ]
  },
  {
   "cell_type": "markdown",
   "metadata": {},
   "source": [
    "To find the length in seconds of each beat for any given metronome marking in beats-per-minute (bpm), you would divide 60 (the number of seconds in a minute) by the bpm marking. For instance, if a piece has a metronome marking of crotchet (quarter-note) = 120, each crotchet beat is 0.5 seconds long (60/120).\n",
    "\n",
    "You can follow this simple rule to find the length of a crotchet whenever the tempo marking shows how many crotchet beats per minute there are. This will usually be for time-signatures with crotchet beats (i.e. with a 4 at the bottom, eg. 4/4, 3/4, 2/4 etc.)\n",
    "\n",
    "<img src='../resources/notes_to_seconds.jpg'>"
   ]
  },
  {
   "cell_type": "markdown",
   "metadata": {},
   "source": [
    "## Note Notation"
   ]
  },
  {
   "cell_type": "markdown",
   "metadata": {},
   "source": [
    "We will note what note will be played and what type of note, 1 for whole, 2 for a half note , 4 for quater note, 8 for an eight note, etc.\n",
    "\n",
    "Fancy Names:\n",
    "+ Semibreve (whole note)\n",
    "+ Minim (half note)\n",
    "+ Crotchet (quarter note)\n",
    "+ Quaver (eighth note)\n",
    "+ Semiquaver (16th note)\n",
    "+ Demisemiquaver (32nd note)\n",
    "\n",
    "See https://hellomusictheory.com/learn/types-of-musical-notes/ to see which notes are which."
   ]
  },
  {
   "cell_type": "markdown",
   "metadata": {},
   "source": [
    "We need to say what note and how long it should be played. Say we had 4 quater note C's:\n",
    "\n",
    "<img src='../resources/4_cs.jpg'>\n",
    "\n",
    "We will notate this as:\n",
    "```\n",
    "Note, Duration\n",
    "C4, 4\n",
    "C4, 4\n",
    "C4, 4\n",
    "C4, 4\n",
    "```"
   ]
  },
  {
   "cell_type": "markdown",
   "metadata": {},
   "source": [
    "## Imperial March"
   ]
  },
  {
   "cell_type": "markdown",
   "metadata": {},
   "source": [
    "<img src='../resources/imperial_march.jpg' width='50%'>"
   ]
  },
  {
   "cell_type": "markdown",
   "metadata": {},
   "source": [
    "```\n",
    "Note, Duration\n",
    "A5, 4\n",
    "A5, 4\n",
    "A5, 4\n",
    "F5, 8\n",
    "C6, 8\n",
    "```"
   ]
  },
  {
   "cell_type": "markdown",
   "metadata": {},
   "source": [
    "## Music with Python"
   ]
  },
  {
   "cell_type": "code",
   "execution_count": 21,
   "metadata": {
    "ExecuteTime": {
     "end_time": "2019-12-09T14:39:06.182896Z",
     "start_time": "2019-12-09T14:39:04.836597Z"
    }
   },
   "outputs": [],
   "source": [
    "import pyaudio\n",
    "\n",
    "p = pyaudio.PyAudio()\n",
    "\n",
    "volume = 0.5     # range [0.0, 1.0]\n",
    "fs = 44100       # sampling rate, Hz, must be integer\n",
    "duration = 1.0   # in seconds, may be float\n",
    "f = 440.0        # sine frequency, Hz, may be float\n",
    "\n",
    "# generate samples, note conversion to float32 array\n",
    "samples = (np.sin(2*np.pi*np.arange(fs*duration)*f/fs)).astype(np.float32)\n",
    "\n",
    "# for paFloat32 sample values must be in range [-1.0, 1.0]\n",
    "stream = p.open(format=pyaudio.paFloat32,\n",
    "                channels=1,\n",
    "                rate=fs,\n",
    "                output=True)\n",
    "\n",
    "# play. May repeat with different volume values (if done interactively)\n",
    "samples = (volume*np.sin(2*np.pi*np.arange(fs*duration)*f/fs)\n",
    "           ).astype(np.float32).tobytes()\n",
    "stream.write(samples)\n",
    "stream.stop_stream()\n",
    "stream.close()\n",
    "\n",
    "p.terminate()\n"
   ]
  },
  {
   "cell_type": "markdown",
   "metadata": {},
   "source": [
    "## Generating Samples"
   ]
  },
  {
   "cell_type": "code",
   "execution_count": 34,
   "metadata": {
    "ExecuteTime": {
     "end_time": "2019-12-09T16:35:19.082354Z",
     "start_time": "2019-12-09T16:35:19.078500Z"
    }
   },
   "outputs": [],
   "source": [
    "def gen_samples(f, duration, fs=44100):\n",
    "    \"\"\"\n",
    "    Function that generates sinusional samples at a frequency f, with a sampling frequency of fs for duration in seconds\n",
    "\n",
    "    Parameters\n",
    "    f (float): Frequency to generate\n",
    "    duration (float): Time in seconds\n",
    "    fs (float): Sampling frequency - defaults ot 441000 Hz\n",
    "    \"\"\"\n",
    "\n",
    "    samples = (np.sin(2*np.pi*np.arange(fs*duration)*f/fs)).astype(np.float32)\n",
    "\n",
    "    return samples\n"
   ]
  },
  {
   "cell_type": "code",
   "execution_count": 40,
   "metadata": {
    "ExecuteTime": {
     "end_time": "2019-12-09T16:36:02.130195Z",
     "start_time": "2019-12-09T16:36:01.859626Z"
    }
   },
   "outputs": [
    {
     "data": {
      "text/plain": [
       "[<matplotlib.lines.Line2D at 0x12d689d90>]"
      ]
     },
     "execution_count": 40,
     "metadata": {},
     "output_type": "execute_result"
    },
    {
     "data": {
      "image/png": "[encoded data removed]",
      "text/plain": [
       "<Figure size 432x288 with 1 Axes>"
      ]
     },
     "metadata": {
      "needs_background": "light"
     },
     "output_type": "display_data"
    }
   ],
   "source": [
    "plt.plot(gen_samples(1600, 0.01))\n",
    "plt.plot(gen_samples(400, 0.01))"
   ]
  },
  {
   "cell_type": "code",
   "execution_count": 42,
   "metadata": {
    "ExecuteTime": {
     "end_time": "2019-12-09T16:36:36.713923Z",
     "start_time": "2019-12-09T16:36:36.526082Z"
    }
   },
   "outputs": [
    {
     "data": {
      "text/plain": [
       "[<matplotlib.lines.Line2D at 0x12d009ad0>]"
      ]
     },
     "execution_count": 42,
     "metadata": {},
     "output_type": "execute_result"
    },
    {
     "data": {
      "image/png": "[encoded data removed]",
      "text/plain": [
       "<Figure size 432x288 with 1 Axes>"
      ]
     },
     "metadata": {
      "needs_background": "light"
     },
     "output_type": "display_data"
    }
   ],
   "source": [
    "plt.plot(np.concatenate((gen_samples(440, 0.005),\n",
    "                gen_samples(880, 0.005))))"
   ]
  },
  {
   "cell_type": "code",
   "execution_count": 53,
   "metadata": {
    "ExecuteTime": {
     "end_time": "2019-12-09T16:41:12.790280Z",
     "start_time": "2019-12-09T16:41:12.784861Z"
    }
   },
   "outputs": [],
   "source": [
    "def play_audio(samples, fs=44100, volume=0.5):\n",
    "    p = pyaudio.PyAudio()\n",
    "    \n",
    "    # for paFloat32 sample values must be in range [-1.0, 1.0]\n",
    "    stream = p.open(format=pyaudio.paFloat32,\n",
    "                    channels=1,\n",
    "                    rate=fs,\n",
    "                    output=True)\n",
    "\n",
    "    stream.write(samples)\n",
    "    stream.stop_stream()\n",
    "    stream.close()\n",
    "\n",
    "    p.terminate()"
   ]
  },
  {
   "cell_type": "code",
   "execution_count": 54,
   "metadata": {
    "ExecuteTime": {
     "end_time": "2019-12-09T16:41:13.204860Z",
     "start_time": "2019-12-09T16:41:13.197342Z"
    }
   },
   "outputs": [
    {
     "data": {
      "text/plain": [
       "(88200,)"
      ]
     },
     "execution_count": 54,
     "metadata": {},
     "output_type": "execute_result"
    }
   ],
   "source": [
    "np.concatenate((gen_samples(440, 1), \n",
    "                gen_samples(880, 1))).shape"
   ]
  },
  {
   "cell_type": "code",
   "execution_count": 55,
   "metadata": {
    "ExecuteTime": {
     "end_time": "2019-12-09T16:41:14.327770Z",
     "start_time": "2019-12-09T16:41:14.321867Z"
    }
   },
   "outputs": [
    {
     "data": {
      "text/plain": [
       "(44100,)"
      ]
     },
     "execution_count": 55,
     "metadata": {},
     "output_type": "execute_result"
    }
   ],
   "source": [
    "gen_samples(440, 1).shape"
   ]
  },
  {
   "cell_type": "markdown",
   "metadata": {},
   "source": [
    "## Putting it all together"
   ]
  },
  {
   "cell_type": "code",
   "execution_count": 154,
   "metadata": {
    "ExecuteTime": {
     "end_time": "2019-12-09T17:08:48.328657Z",
     "start_time": "2019-12-09T17:08:47.302231Z"
    }
   },
   "outputs": [],
   "source": [
    "play_audio(gen_samples(1000, 1))\n",
    "play_audio(gen_samples(4000, 1))"
   ]
  },
  {
   "cell_type": "code",
   "execution_count": 170,
   "metadata": {
    "ExecuteTime": {
     "end_time": "2019-12-09T17:20:21.739982Z",
     "start_time": "2019-12-09T17:20:21.728585Z"
    }
   },
   "outputs": [
    {
     "data": {
      "text/html": [
       "<div>\n",
       "<style scoped>\n",
       "    .dataframe tbody tr th:only-of-type {\n",
       "        vertical-align: middle;\n",
       "    }\n",
       "\n",
       "    .dataframe tbody tr th {\n",
       "        vertical-align: top;\n",
       "    }\n",
       "\n",
       "    .dataframe thead th {\n",
       "        text-align: right;\n",
       "    }\n",
       "</style>\n",
       "<table border=\"1\" class=\"dataframe\">\n",
       "  <thead>\n",
       "    <tr style=\"text-align: right;\">\n",
       "      <th></th>\n",
       "      <th>Note</th>\n",
       "      <th>Length</th>\n",
       "    </tr>\n",
       "  </thead>\n",
       "  <tbody>\n",
       "    <tr>\n",
       "      <th>50</th>\n",
       "      <td>Gb5</td>\n",
       "      <td>16</td>\n",
       "    </tr>\n",
       "    <tr>\n",
       "      <th>51</th>\n",
       "      <td>Bb4</td>\n",
       "      <td>16</td>\n",
       "    </tr>\n",
       "    <tr>\n",
       "      <th>52</th>\n",
       "      <td>Eb5</td>\n",
       "      <td>4</td>\n",
       "    </tr>\n",
       "    <tr>\n",
       "      <th>53</th>\n",
       "      <td>D5</td>\n",
       "      <td>8</td>\n",
       "    </tr>\n",
       "    <tr>\n",
       "      <th>54</th>\n",
       "      <td>Db5</td>\n",
       "      <td>8</td>\n",
       "    </tr>\n",
       "  </tbody>\n",
       "</table>\n",
       "</div>"
      ],
      "text/plain": [
       "   Note  Length\n",
       "50  Gb5      16\n",
       "51  Bb4      16\n",
       "52  Eb5       4\n",
       "53   D5       8\n",
       "54  Db5       8"
      ]
     },
     "execution_count": 170,
     "metadata": {},
     "output_type": "execute_result"
    }
   ],
   "source": [
    "imperial_march = pd.read_csv('../data/imperial_march.gln')\n",
    "imperial_march.tail()"
   ]
  },
  {
   "cell_type": "code",
   "execution_count": 171,
   "metadata": {
    "ExecuteTime": {
     "end_time": "2019-12-09T17:20:22.184820Z",
     "start_time": "2019-12-09T17:20:22.177007Z"
    }
   },
   "outputs": [],
   "source": [
    "df = imperial_march.merge(notes, on='Note', how='left')"
   ]
  },
  {
   "cell_type": "code",
   "execution_count": 180,
   "metadata": {
    "ExecuteTime": {
     "end_time": "2019-12-09T17:21:15.691749Z",
     "start_time": "2019-12-09T17:21:15.688731Z"
    }
   },
   "outputs": [],
   "source": [
    "bpm = 30"
   ]
  },
  {
   "cell_type": "code",
   "execution_count": 181,
   "metadata": {
    "ExecuteTime": {
     "end_time": "2019-12-09T17:21:16.091573Z",
     "start_time": "2019-12-09T17:21:16.088327Z"
    }
   },
   "outputs": [],
   "source": [
    "def length_to_duration(length, bpm):\n",
    "    \"\"\"\n",
    "    Function that converts length to bpm\n",
    "    \n",
    "    Assumes that the lenght of a quater note is 4\n",
    "    \"\"\"\n",
    "    return 4*60/bpm*1/length"
   ]
  },
  {
   "cell_type": "code",
   "execution_count": 182,
   "metadata": {
    "ExecuteTime": {
     "end_time": "2019-12-09T17:21:16.408558Z",
     "start_time": "2019-12-09T17:21:16.404187Z"
    }
   },
   "outputs": [],
   "source": [
    "df['Duration'] = df.Length.apply(lambda x: length_to_duration(x, bpm))"
   ]
  },
  {
   "cell_type": "code",
   "execution_count": 183,
   "metadata": {
    "ExecuteTime": {
     "end_time": "2019-12-09T17:21:50.065744Z",
     "start_time": "2019-12-09T17:21:16.776011Z"
    }
   },
   "outputs": [],
   "source": [
    "for row in df.iterrows():\n",
    "    duration = row[1].Duration\n",
    "    frequency = row[1].Frequency\n",
    "    play_audio(gen_samples(frequency, duration))"
   ]
  },
  {
   "cell_type": "code",
   "execution_count": null,
   "metadata": {},
   "outputs": [],
   "source": []
  }
 ],
 "metadata": {
  "kernelspec": {
   "display_name": "Python 3",
   "language": "python",
   "name": "python3"
  },
  "language_info": {
   "codemirror_mode": {
    "name": "ipython",
    "version": 3
   },
   "file_extension": ".py",
   "mimetype": "text/x-python",
   "name": "python",
   "nbconvert_exporter": "python",
   "pygments_lexer": "ipython3",
   "version": "3.7.4"
  },
  "toc": {
   "base_numbering": 1,
   "nav_menu": {},
   "number_sections": true,
   "sideBar": true,
   "skip_h1_title": true,
   "title_cell": "Table of Contents",
   "title_sidebar": "Contents",
   "toc_cell": false,
   "toc_position": {
    "height": "calc(100% - 180px)",
    "left": "10px",
    "top": "150px",
    "width": "224px"
   },
   "toc_section_display": true,
   "toc_window_display": true
  }
 },
 "nbformat": 4,
 "nbformat_minor": 2
}
